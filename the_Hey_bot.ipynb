{
 "cells": [
  {
   "cell_type": "code",
   "execution_count": 113,
   "id": "538ba6bf-f730-40b4-9b2c-142c46ae84fc",
   "metadata": {},
   "outputs": [],
   "source": [
    "\"\"\" If you do not have,\n",
    "pip install SpeechRecognition\n",
    "pip install pyttsx3\n",
    "pip install PyAudio \n",
    "pip install wikipedia\"\"\"\n",
    "\n",
    "import speech_recognition as sr\n",
    "import pyttsx3\n",
    "import pywhatkit\n",
    "import wikipedia"
   ]
  },
  {
   "cell_type": "code",
   "execution_count": 146,
   "id": "2d10cca3-9ec2-49f1-b4f4-bf485876d18e",
   "metadata": {},
   "outputs": [
    {
     "name": "stdout",
     "output_type": "stream",
     "text": [
      "Listening...\n",
      "command: play news from nasa\n",
      "playingcommand:  news from nasa\n"
     ]
    }
   ],
   "source": [
    "#MEET HEY\n",
    "\n",
    "#setting voice\n",
    "engine = pyttsx3.init()\n",
    "voices = engine.getProperty('voices')\n",
    "engine.setProperty('voice', voices[0].id )\n",
    "\n",
    "#defining talking function\n",
    "def talk(text):\n",
    "    engine.say(text)\n",
    "    engine.runAndWait()\n",
    "    \n",
    "#defining listeneing function\n",
    "ear = sr.Recognizer()                 \n",
    "\n",
    "def capture_command():\n",
    "    try:                                  #try block to either process the voice or send back a message\n",
    "        with sr.Microphone() as source:   #assigning the microphone to 'source'\n",
    "            print('Listening...')        \n",
    "            voice = ear.listen(source)    #registering the voice\n",
    "            command = ear.recognize_google(voice)   #converting voice to text\n",
    "            command = command.lower()               \n",
    "            if 'hey' in command:\n",
    "                command = command.replace('hey', '')\n",
    "\n",
    "    except:\n",
    "        pass\n",
    "    return \n",
    "\n",
    "#defining the RUN function\n",
    "def activate_hey():\n",
    "    command = capture_command()\n",
    "    print(command)\n",
    "    \n",
    "    if 'play' in command:\n",
    "        title = command.replace('play', '')\n",
    "        print('playing' + title)\n",
    "        talk('playing' + title)\n",
    "        pywhatkit.playonyt(title)\n",
    "        \n",
    "    elif 'wiki' in command:\n",
    "        query = command.replace('wiki', '')\n",
    "        info = wikipedia.summary(query, 2)\n",
    "        print(info)\n",
    "        talk(info)\n",
    "        \n",
    "activate_hey()"
   ]
  },
  {
   "cell_type": "code",
   "execution_count": null,
   "id": "aac6da7e-a0d2-427a-83c0-62aa24202865",
   "metadata": {},
   "outputs": [],
   "source": [
    "                        \n",
    "\n",
    "\n",
    "\n",
    "\n",
    "\n",
    "\n",
    "\n"
   ]
  },
  {
   "cell_type": "code",
   "execution_count": null,
   "id": "87075682-5d5d-4df3-a963-1a761fbdbb42",
   "metadata": {},
   "outputs": [],
   "source": []
  },
  {
   "cell_type": "code",
   "execution_count": null,
   "id": "d97ed56e-62ee-4886-b28e-c3d360b36cc3",
   "metadata": {},
   "outputs": [],
   "source": []
  }
 ],
 "metadata": {
  "kernelspec": {
   "display_name": "Python 3",
   "language": "python",
   "name": "python3"
  },
  "language_info": {
   "codemirror_mode": {
    "name": "ipython",
    "version": 3
   },
   "file_extension": ".py",
   "mimetype": "text/x-python",
   "name": "python",
   "nbconvert_exporter": "python",
   "pygments_lexer": "ipython3",
   "version": "3.8.8"
  }
 },
 "nbformat": 4,
 "nbformat_minor": 5
}
